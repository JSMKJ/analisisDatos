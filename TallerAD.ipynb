{
 "cells": [
  {
   "cell_type": "markdown",
   "id": "3f6da625",
   "metadata": {},
   "source": [
    "# Taller Análisis de Datos\n",
    "_Profesor: Juan Sebastian Martinez Conejo_\n",
    "#### Práctica MOPNGO DB"
   ]
  },
  {
   "cell_type": "markdown",
   "id": "6e5d94bb",
   "metadata": {},
   "source": [
    "## Primer paso\n",
    "Instalación de Docker de forma local desde el  [Sitio oficial de Docker](https://www.docker.com/products/docker-desktop/)\n",
    "\n",
    "Una vez instalado, observamos el siguiente entorno en Windows:\n",
    "\n",
    "<img src=\".\\Archivos\\InstalacionDocker.png\" width=\"500\">\n",
    "\n",
    "Figura 1. Instalación Docker"
   ]
  },
  {
   "cell_type": "markdown",
   "id": "b2fb8d56",
   "metadata": {},
   "source": [
    "## Segundo paso\n",
    "Descarga de la última imágen de MongoDB desde la consola, con el siguiente comando: `docker pull mongo:lastest` \n",
    "\n",
    "<img src=\".\\Archivos\\ImagenMongoDB.png\" width=\"500\">\n",
    "\n",
    "Figura 2. Descarga última imágen Mongo DB"
   ]
  },
  {
   "cell_type": "markdown",
   "id": "92c7d244",
   "metadata": {},
   "source": [
    "## Tercer paso\n",
    "Crear y ejecutar un contenedor en MongoDB desde la consola mediante el bloque de líneas: \n",
    "```\n",
    "docker run -d --name mongo-f1 -p 27017:27017\n",
    "-e MONGO_INITDB_ROOT_USERNAME=root `\n",
    "-e MONGO_INITDB_ROOT_PASSWORD=example `\n",
    "mongo:latest \n",
    "```\n",
    "\n",
    "<img src=\".\\Archivos\\Creacion_y_ejecucion_Contenedor.png\" width=\"500\"> \n",
    "\n",
    "Figura 3. Creación y ejecución del contenedor"
   ]
  },
  {
   "cell_type": "markdown",
   "id": "6543fb50",
   "metadata": {},
   "source": [
    "## Cuarto paso\n",
    "Iniciar el contenedor por consola mediante el comando: `docker start mongo-f1` \n",
    "\n",
    "<img src=\".\\Archivos\\Iniciar_el_contenedor.png\" width=\"500\"> \n",
    "\n",
    "Figura 4. Iniciar el contenedor"
   ]
  },
  {
   "cell_type": "markdown",
   "id": "ace6e264",
   "metadata": {},
   "source": [
    "## Quinto paso\n",
    "\n",
    "Verificar que el contenedor esté en ejecución mediante el comando: `docker ps` \n",
    "\n",
    "<img src=\".\\Archivos\\Verificar_contenedores.png\" width=\"500\"> \n",
    "\n",
    "Figura 4. Verificar el contenedor"
   ]
  },
  {
   "cell_type": "markdown",
   "id": "0cda1e65",
   "metadata": {},
   "source": [
    "## Sexto paso\n",
    "Copiar el arhivo al contenedor mediante el comando: `docker cp \".\\Archivos\\formula_one.csv\" mongo-f1:/data/formula_one.csv` \n",
    "\n",
    "<img src=\".\\Archivos\\Copiar_archivo_al_contenedor.png\" width=\"500\"> \n",
    "\n",
    "Figura 5. Copiar archivo al contenedor"
   ]
  },
  {
   "cell_type": "markdown",
   "id": "f3811150",
   "metadata": {},
   "source": [
    "## Séptimo paso\n",
    "Crear colección e importar datos (mongoimport) desde la consola mediante el bloque de líneas:\n",
    "\n",
    "```\n",
    "docker exec mongo-f1 mongoimport `\n",
    ">>   --username root `\n",
    ">>   --password example `\n",
    ">>   --authenticationDatabase admin `\n",
    ">>   --db f1 `\n",
    ">>   --collection resultados `\n",
    ">>   --type csv `\n",
    ">>   --headerline `\n",
    ">>   --drop `\n",
    ">>   --file /data/formula_one.csv\n",
    "```\n",
    "\n",
    "<img src=\".\\Archivos\\Creacion_coleccion.png\" width=\"500\"> \n",
    "\n",
    "Figura 6. Crear colección e importar datos\n"
   ]
  },
  {
   "cell_type": "markdown",
   "id": "984d0757",
   "metadata": {},
   "source": [
    "## Octavo Punto\n",
    "Entrar al shell de Mongo (mongosh), por consola mediante el comando: `docker exec -it mongo-f1 mongosh -u root -p example --authenticationDatabase admin`\n",
    "\n",
    "<img src=\".\\Archivos\\Entrar_Shell.png\" width=\"500\"> \n",
    "\n",
    "Figura 7. Entrar al Shell de Mongo "
   ]
  },
  {
   "cell_type": "markdown",
   "id": "6354817c",
   "metadata": {},
   "source": [
    "## Noveno Punto\n",
    "Mostrar las bases de datos desde mongosh, mediante el comando `show dbs`\n",
    "\n",
    "<img src=\".\\Archivos\\Show_dbs.png\" width=\"300\"> \n",
    "\n",
    "Figura 8. Mostrar las bases de datos"
   ]
  },
  {
   "cell_type": "markdown",
   "id": "fd9d3211",
   "metadata": {},
   "source": [
    "## Decimo paso\n",
    "Seleccionar la base de datos `show dbs`\n",
    "\n",
    "<img src=\".\\Archivos\\Seleccionar_BBDD.png\" width=\"300\"> \n",
    "\n",
    "Figura 9. Seleccionar bases de datos\n"
   ]
  },
  {
   "cell_type": "markdown",
   "id": "2911dac7",
   "metadata": {},
   "source": [
    "## Onceavo paso\n",
    "Confirmar colección y muestra rápida, mediante los comandos: `show collections` y `db.resultados.findOne()`\n",
    "\n",
    "<img src=\".\\Archivos\\Confirmar_Coleccion.png\" width=\"300\"> \n",
    "\n",
    "Figura 10. Confirmar colección y muestra rápida\n"
   ]
  },
  {
   "cell_type": "markdown",
   "id": "df29fe32",
   "metadata": {},
   "source": [
    "# Consultas"
   ]
  },
  {
   "cell_type": "markdown",
   "id": "350adfdb",
   "metadata": {},
   "source": [
    "#### Primer consulta\n",
    "Contar el número de documentos en la colección. \n",
    "\n",
    "Se realiza la consulta mediante el comando: `db.resultados.countDocuments()`, el número de documentos en la colección es: 25140\n",
    "\n",
    "\n",
    "<img src=\".\\Archivos\\Consultas\\PrimerConsulta.png\" width=\"300\"> \n",
    "\n",
    "Figura 11. Contar el número de documentos en la colección. \n"
   ]
  }
 ],
 "metadata": {
  "kernelspec": {
   "display_name": "Python 3",
   "language": "python",
   "name": "python3"
  },
  "language_info": {
   "codemirror_mode": {
    "name": "ipython",
    "version": 3
   },
   "file_extension": ".py",
   "mimetype": "text/x-python",
   "name": "python",
   "nbconvert_exporter": "python",
   "pygments_lexer": "ipython3",
   "version": "3.10.11"
  }
 },
 "nbformat": 4,
 "nbformat_minor": 5
}
